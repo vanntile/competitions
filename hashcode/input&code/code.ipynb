{
 "cells": [
  {
   "cell_type": "code",
   "execution_count": null,
   "metadata": {},
   "outputs": [],
   "source": [
    "inputFilename = 'd_tough_choices.txt'\n",
    "outputFilename = inputFilename + '.out'"
   ]
  },
  {
   "cell_type": "code",
   "execution_count": null,
   "metadata": {},
   "outputs": [],
   "source": [
    "class Library:\n",
    "    def __init__(self, books, signup, daily, ids, scores, start, i):\n",
    "        self.books = books\n",
    "        self.signup = signup\n",
    "        self.daily = daily\n",
    "        self.ids = ids\n",
    "        self.start = start\n",
    "        self.i = i\n",
    "        self.scores = list(map(lambda x: scores[x], ids))\n",
    "        \n",
    "        self.to_scan = []\n",
    "\n",
    "        # sort the books is decreasing\n",
    "        self.ids.sort(key=lambda i: scores[i], reverse=True)"
   ]
  },
  {
   "cell_type": "code",
   "execution_count": null,
   "metadata": {},
   "outputs": [],
   "source": [
    "## Read your input HERE\n",
    "\n",
    "# B no books\n",
    "# L no Libraries\n",
    "# D days\n",
    "\n",
    "\n",
    "def read_input(filename):\n",
    "    lines = open(filename).readlines()\n",
    "    B, L, D = [int(val) for val in lines[0].split()]\n",
    "    S = [int (v) for v in lines[1].split()]\n",
    "\n",
    "    N = [None] * L # N[i] no books in library\n",
    "    T = [None] * L # T[i] signup time\n",
    "    M = [None] * L \n",
    "    ID = [None] * L\n",
    "\n",
    "    libs = [None] * L\n",
    "\n",
    "    for i in range(0, L):\n",
    "        N[i], T[i], M[i] = [int(val) for val in lines[2 + 2 * i].split()]\n",
    "        ID[i] = [int(val) for val in lines[2 + 2 * i + 1].split()]\n",
    "        libs[i] = Library(N[i], T[i], M[i], ID[i], S, None, i)\n",
    "    \n",
    "    return B, L, D, S, libs"
   ]
  },
  {
   "cell_type": "code",
   "execution_count": null,
   "metadata": {},
   "outputs": [],
   "source": [
    "B, L, D, S, libs = read_input(inputFilename)"
   ]
  },
  {
   "cell_type": "code",
   "execution_count": null,
   "metadata": {},
   "outputs": [],
   "source": [
    "print(B, L, D) # books, libraries, days\n",
    "# print(S) # score per book\n",
    "\n",
    "# for elem in libs:\n",
    "#     print(elem.books, elem.signup, elem.daily, elem.ids)"
   ]
  },
  {
   "cell_type": "code",
   "execution_count": null,
   "metadata": {},
   "outputs": [],
   "source": [
    "# libs.sort(key=lambda l: l.signup * 50 - l.books) best f\n",
    "# libs.sort(key=lambda l: l.signup - sum(l.scores) / 30) best c\n",
    "# libs.sort(key=lambda l: l.signup)\n",
    "libs.sort(key=lambda l: l.signup * 3 - l.books)"
   ]
  },
  {
   "cell_type": "code",
   "execution_count": null,
   "metadata": {},
   "outputs": [],
   "source": [
    "d = 0\n",
    "last_d = -1\n",
    "library = 0\n",
    "strikes = 0\n",
    "remaining_ids = list(range(0, B))\n",
    "\n",
    "while d < D and library < L:\n",
    "    if last_d == d:\n",
    "        break\n",
    "    \n",
    "    lib = libs[library]\n",
    "    i = 0\n",
    "    \n",
    "    days_left = (D - d - lib.signup)\n",
    "    length = len(lib.ids)\n",
    "    while i < days_left and i < length:\n",
    "        if lib.ids[i] in remaining_ids:\n",
    "            lib.to_scan.append(lib.ids[i])\n",
    "        i = i + 1\n",
    "    \n",
    "    remaining_ids = list(set(remaining_ids) - set(lib.to_scan))\n",
    "\n",
    "    if len(lib.to_scan) == 0:\n",
    "        strikes = strikes + 1\n",
    "        if strikes == 100:\n",
    "            last_d = d\n",
    "            continue\n",
    "\n",
    "    if len(lib.to_scan) != 0:\n",
    "        lib.start = d\n",
    "    last_d = d\n",
    "    d = d + lib.signup\n",
    "    library = library + 1"
   ]
  },
  {
   "cell_type": "code",
   "execution_count": null,
   "metadata": {},
   "outputs": [],
   "source": [
    "def write_output(output_file):\n",
    "    line_0 = str(sum(list(map(lambda x: 1 if x.start != None else 0, libs)))) + \"\\n\"\n",
    "    output_file.write(line_0)\n",
    "    for lib in libs:\n",
    "        if lib.start != None:\n",
    "            line_1 = str(lib.i) + \" \" + str(len(lib.to_scan)) + \"\\n\"\n",
    "            line_2 = ' '.join([str(x) for x in lib.to_scan]) + \"\\n\"\n",
    "            output_file.write(line_1)\n",
    "            output_file.write(line_2)"
   ]
  },
  {
   "cell_type": "code",
   "execution_count": null,
   "metadata": {},
   "outputs": [],
   "source": [
    "output_file = open(outputFilename, 'w')\n",
    "write_output(output_file)\n",
    "output_file.close()"
   ]
  }
 ],
 "metadata": {
  "kernelspec": {
   "display_name": "Python 3",
   "language": "python",
   "name": "python3"
  },
  "language_info": {
   "codemirror_mode": {
    "name": "ipython",
    "version": 3
   },
   "file_extension": ".py",
   "mimetype": "text/x-python",
   "name": "python",
   "nbconvert_exporter": "python",
   "pygments_lexer": "ipython3",
   "version": "3.6.9"
  }
 },
 "nbformat": 4,
 "nbformat_minor": 4
}
